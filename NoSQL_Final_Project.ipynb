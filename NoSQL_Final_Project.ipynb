{
 "cells": [
  {
   "cell_type": "markdown",
   "metadata": {},
   "source": [
    "# Movie Recommendation System Using NoSQL Databases\n",
    "\n",
    "## **Introduction**\n",
    "This project demonstrates the integration of multiple NoSQL databases (**Document**, **Graph**, and **Key-Value** models) to create a unified solution for managing a **Movie Recommendation System**. The system is designed to:\n",
    "1. **Store and query movie and user details** using **MongoDB** (Document database).\n",
    "2. **Manage relationships between users and movies** using **Neo4j** (Graph database).\n",
    "3. **Cache frequently accessed data**, like recommendations or watchlists, using **Redis** (Key-Value database).\n"
   ]
  },
  {
   "cell_type": "code",
   "execution_count": 2,
   "metadata": {
    "colab": {
     "base_uri": "https://localhost:8080/"
    },
    "id": "kfEuPnbMv4o_",
    "outputId": "fdf74516-4251-4b2c-bf17-2c62d55ebae0"
   },
   "outputs": [
    {
     "name": "stdout",
     "output_type": "stream",
     "text": [
      "Requirement already satisfied: pymongo[srv] in /opt/anaconda3/lib/python3.11/site-packages (4.10.1)\n",
      "\u001b[33mWARNING: pymongo 4.10.1 does not provide the extra 'srv'\u001b[0m\u001b[33m\n",
      "\u001b[0mRequirement already satisfied: dnspython<3.0.0,>=1.16.0 in /opt/anaconda3/lib/python3.11/site-packages (from pymongo[srv]) (2.7.0)\n"
     ]
    }
   ],
   "source": [
    "!pip install \"pymongo[srv]\""
   ]
  },
  {
   "cell_type": "code",
   "execution_count": 2,
   "metadata": {
    "id": "XnT269vgv-DU"
   },
   "outputs": [],
   "source": [
    "from pymongo.mongo_client import MongoClient\n",
    "from pymongo.server_api import ServerApi\n",
    "import pprint\n",
    "import pandas as pd"
   ]
  },
  {
   "cell_type": "code",
   "execution_count": 3,
   "metadata": {
    "colab": {
     "base_uri": "https://localhost:8080/"
    },
    "id": "tGLnoes7wNii",
    "outputId": "43d0b246-3c59-4992-e932-a4743b91a423"
   },
   "outputs": [
    {
     "name": "stdout",
     "output_type": "stream",
     "text": [
      "2a02:8440:7159:b092:95d6:9660:6a18:4170"
     ]
    }
   ],
   "source": [
    "!curl ipecho.net/plain"
   ]
  },
  {
   "cell_type": "code",
   "execution_count": 4,
   "metadata": {},
   "outputs": [],
   "source": [
    "uri = f\"mongodb+srv://<Username>:<Password>@cluster0.raomp.mongodb.net/\"\n",
    "\n",
    "# Create a new client and connect to the server\n",
    "client = MongoClient(uri, server_api=ServerApi('1'))"
   ]
  },
  {
   "cell_type": "markdown",
   "metadata": {},
   "source": [
    "### **1. MongoDB Integration**\n",
    "The file includes:\n",
    "- **Setup and Initialization**:\n",
    "  - Connects to a MongoDB Atlas cluster using the `pymongo` library.\n",
    "  - Initializes two collections: `movies` and `users`.\n",
    "  - Inserts sample data:\n",
    "    - **Movies**: Includes `movie_id`, `title`, `genre`, and `year`.\n",
    "    - **Users**: Includes `user_id`, `name`, and `age`.\n",
    "\n",
    "  **Example Data**:\n",
    "  ```json\n",
    "  Movies:\n",
    "  [\n",
    "      {\"movie_id\": 1, \"title\": \"Inception\", \"genre\": [\"Sci-Fi\", \"Thriller\"], \"year\": 2010},\n",
    "      {\"movie_id\": 2, \"title\": \"The Matrix\", \"genre\": [\"Sci-Fi\", \"Action\"], \"year\": 1999},\n",
    "      {\"movie_id\": 3, \"title\": \"Interstellar\", \"genre\": [\"Sci-Fi\", \"Drama\"], \"year\": 2014}\n",
    "  ]\n",
    "\n",
    "  Users:\n",
    "  [\n",
    "      {\"user_id\": 1, \"name\": \"Alice\", \"age\": 30},\n",
    "      {\"user_id\": 2, \"name\": \"Bob\", \"age\": 25}\n",
    "  ]"
   ]
  },
  {
   "cell_type": "code",
   "execution_count": 5,
   "metadata": {},
   "outputs": [
    {
     "name": "stdout",
     "output_type": "stream",
     "text": [
      "MongoDB setup completed!\n",
      "Movies in MongoDB: [{'movie_id': 1, 'title': 'Inception', 'genre': ['Sci-Fi', 'Thriller'], 'year': 2010}, {'movie_id': 2, 'title': 'The Matrix', 'genre': ['Sci-Fi', 'Action'], 'year': 1999}, {'movie_id': 3, 'title': 'Interstellar', 'genre': ['Sci-Fi', 'Drama'], 'year': 2014}]\n"
     ]
    }
   ],
   "source": [
    "from pymongo import MongoClient\n",
    "\n",
    "# MongoDB Setup\n",
    "def setup_mongodb():\n",
    "    # Connect to MongoDB Atlas\n",
    "    client = MongoClient(\"mongodb+srv://<Username>:<Password>@cluster0.raomp.mongodb.net/\")\n",
    "    \n",
    "    # Select the database and collection\n",
    "    db = client[\"movie_system\"]\n",
    "    movies_collection = db[\"movies\"]\n",
    "    users_collection = db[\"users\"]\n",
    "    \n",
    "    # Insert initial data\n",
    "    movies = [\n",
    "        {\"movie_id\": 1, \"title\": \"Inception\", \"genre\": [\"Sci-Fi\", \"Thriller\"], \"year\": 2010},\n",
    "        {\"movie_id\": 2, \"title\": \"The Matrix\", \"genre\": [\"Sci-Fi\", \"Action\"], \"year\": 1999},\n",
    "        {\"movie_id\": 3, \"title\": \"Interstellar\", \"genre\": [\"Sci-Fi\", \"Drama\"], \"year\": 2014},\n",
    "    ]\n",
    "    users = [\n",
    "        {\"user_id\": 1, \"name\": \"Alice\", \"age\": 30},\n",
    "        {\"user_id\": 2, \"name\": \"Bob\", \"age\": 25},\n",
    "    ]\n",
    "    \n",
    "    # Insert data if collections are empty\n",
    "    if movies_collection.count_documents({}) == 0:\n",
    "        movies_collection.insert_many(movies)\n",
    "    if users_collection.count_documents({}) == 0:\n",
    "        users_collection.insert_many(users)\n",
    "    \n",
    "    print(\"MongoDB setup completed!\")\n",
    "    return movies_collection, users_collection\n",
    "\n",
    "movies_collection, users_collection = setup_mongodb()\n",
    "\n",
    "# Query MongoDB: Retrieve all movies\n",
    "def get_movies_from_mongodb():\n",
    "    return list(movies_collection.find({}, {\"_id\": 0}))\n",
    "\n",
    "print(\"Movies in MongoDB:\", get_movies_from_mongodb())\n"
   ]
  },
  {
   "cell_type": "markdown",
   "metadata": {},
   "source": [
    "Find Movies by Genre\n",
    "\n"
   ]
  },
  {
   "cell_type": "code",
   "execution_count": 6,
   "metadata": {},
   "outputs": [
    {
     "name": "stdout",
     "output_type": "stream",
     "text": [
      "Movies in Sci-Fi genre: [{'movie_id': 1, 'title': 'Inception', 'genre': ['Sci-Fi', 'Thriller'], 'year': 2010}, {'movie_id': 2, 'title': 'The Matrix', 'genre': ['Sci-Fi', 'Action'], 'year': 1999}, {'movie_id': 3, 'title': 'Interstellar', 'genre': ['Sci-Fi', 'Drama'], 'year': 2014}]\n"
     ]
    }
   ],
   "source": [
    "# Find movies by genre\n",
    "def find_movies_by_genre(genre):\n",
    "    return list(movies_collection.find({\"genre\": genre}, {\"_id\": 0}))\n",
    "\n",
    "# Example Usage\n",
    "print(\"Movies in Sci-Fi genre:\", find_movies_by_genre(\"Sci-Fi\"))\n"
   ]
  },
  {
   "cell_type": "markdown",
   "metadata": {},
   "source": [
    "Add a new movie"
   ]
  },
  {
   "cell_type": "code",
   "execution_count": 7,
   "metadata": {},
   "outputs": [
    {
     "name": "stdout",
     "output_type": "stream",
     "text": [
      "Movie 'Tenet' added successfully!\n"
     ]
    }
   ],
   "source": [
    "# Add a new movie\n",
    "def add_movie(movie):\n",
    "    movies_collection.insert_one(movie)\n",
    "    print(f\"Movie '{movie['title']}' added successfully!\")\n",
    "\n",
    "# Example Usage\n",
    "new_movie = {\"movie_id\": 4, \"title\": \"Tenet\", \"genre\": [\"Sci-Fi\", \"Action\"], \"year\": 2020}\n",
    "add_movie(new_movie)\n"
   ]
  },
  {
   "cell_type": "markdown",
   "metadata": {},
   "source": [
    "Update Movie Details\n",
    "\n"
   ]
  },
  {
   "cell_type": "code",
   "execution_count": 8,
   "metadata": {},
   "outputs": [
    {
     "name": "stdout",
     "output_type": "stream",
     "text": [
      "Movie 4 updated successfully!\n"
     ]
    }
   ],
   "source": [
    "# Update movie details\n",
    "def update_movie(movie_id, updated_fields):\n",
    "    movies_collection.update_one({\"movie_id\": movie_id}, {\"$set\": updated_fields})\n",
    "    print(f\"Movie {movie_id} updated successfully!\")\n",
    "\n",
    "# Example Usage\n",
    "update_movie(4, {\"title\": \"Tenet (Updated)\", \"year\": 2021})\n"
   ]
  },
  {
   "cell_type": "markdown",
   "metadata": {},
   "source": [
    "Delete a Movie\n"
   ]
  },
  {
   "cell_type": "code",
   "execution_count": 9,
   "metadata": {},
   "outputs": [
    {
     "name": "stdout",
     "output_type": "stream",
     "text": [
      "Movie 4 deleted successfully!\n"
     ]
    }
   ],
   "source": [
    "# Delete a movie\n",
    "def delete_movie(movie_id):\n",
    "    movies_collection.delete_one({\"movie_id\": movie_id})\n",
    "    print(f\"Movie {movie_id} deleted successfully!\")\n",
    "\n",
    "# Example Usage\n",
    "delete_movie(4)\n"
   ]
  },
  {
   "cell_type": "markdown",
   "metadata": {},
   "source": [
    "Find Users by Age Range\n",
    "\n"
   ]
  },
  {
   "cell_type": "code",
   "execution_count": 10,
   "metadata": {},
   "outputs": [
    {
     "name": "stdout",
     "output_type": "stream",
     "text": [
      "Users aged 20-30: [{'user_id': 1, 'name': 'Alice', 'age': 30, 'ratings': [{'movie_id': 1, 'rating': 5}]}, {'user_id': 2, 'name': 'Bob', 'age': 25}]\n"
     ]
    }
   ],
   "source": [
    "# Find users by age range\n",
    "def find_users_by_age_range(min_age, max_age):\n",
    "    return list(users_collection.find({\"age\": {\"$gte\": min_age, \"$lte\": max_age}}, {\"_id\": 0}))\n",
    "\n",
    "# Example Usage\n",
    "print(\"Users aged 20-30:\", find_users_by_age_range(20, 30))\n"
   ]
  },
  {
   "cell_type": "markdown",
   "metadata": {},
   "source": [
    "Add a Movie Rating\n"
   ]
  },
  {
   "cell_type": "code",
   "execution_count": 11,
   "metadata": {},
   "outputs": [
    {
     "name": "stdout",
     "output_type": "stream",
     "text": [
      "User 1 rated Movie 1 with 5 stars.\n"
     ]
    }
   ],
   "source": [
    "# Add a movie rating\n",
    "def add_movie_rating(user_id, movie_id, rating):\n",
    "    users_collection.update_one(\n",
    "        {\"user_id\": user_id},\n",
    "        {\"$push\": {\"ratings\": {\"movie_id\": movie_id, \"rating\": rating}}}\n",
    "    )\n",
    "    print(f\"User {user_id} rated Movie {movie_id} with {rating} stars.\")\n",
    "\n",
    "# Example Usage\n",
    "add_movie_rating(1, 1, 5)  # Alice rates Inception 5 stars\n"
   ]
  },
  {
   "cell_type": "markdown",
   "metadata": {},
   "source": [
    "Count Movies by Genre\n",
    "\n"
   ]
  },
  {
   "cell_type": "code",
   "execution_count": 12,
   "metadata": {},
   "outputs": [
    {
     "name": "stdout",
     "output_type": "stream",
     "text": [
      "Movies count by genre: [{'count': 3, 'genre': 'Sci-Fi'}, {'count': 1, 'genre': 'Thriller'}, {'count': 1, 'genre': 'Action'}, {'count': 1, 'genre': 'Drama'}]\n"
     ]
    }
   ],
   "source": [
    "# Count movies by genre\n",
    "def count_movies_by_genre():\n",
    "    pipeline = [\n",
    "        {\"$unwind\": \"$genre\"},\n",
    "        {\"$group\": {\"_id\": \"$genre\", \"count\": {\"$sum\": 1}}},\n",
    "        {\"$project\": {\"_id\": 0, \"genre\": \"$_id\", \"count\": 1}}\n",
    "    ]\n",
    "    return list(movies_collection.aggregate(pipeline))\n",
    "\n",
    "# Example Usage\n",
    "print(\"Movies count by genre:\", count_movies_by_genre())\n"
   ]
  },
  {
   "cell_type": "markdown",
   "metadata": {},
   "source": [
    "1. Aggregate Ratings by Genre"
   ]
  },
  {
   "cell_type": "code",
   "execution_count": 13,
   "metadata": {},
   "outputs": [
    {
     "name": "stdout",
     "output_type": "stream",
     "text": [
      "Average ratings by genre: [{'avg_rating': 5.0, 'genre': 'Sci-Fi'}, {'avg_rating': 5.0, 'genre': 'Thriller'}]\n"
     ]
    }
   ],
   "source": [
    "# Aggregate ratings by genre\n",
    "def get_avg_rating_by_genre():\n",
    "    pipeline = [\n",
    "        {\"$unwind\": \"$ratings\"},\n",
    "        {\"$lookup\": {\n",
    "            \"from\": \"movies\",\n",
    "            \"localField\": \"ratings.movie_id\",\n",
    "            \"foreignField\": \"movie_id\",\n",
    "            \"as\": \"movie\"\n",
    "        }},\n",
    "        {\"$unwind\": \"$movie\"},\n",
    "        {\"$unwind\": \"$movie.genre\"},\n",
    "        {\"$group\": {\"_id\": \"$movie.genre\", \"avg_rating\": {\"$avg\": \"$ratings.rating\"}}},\n",
    "        {\"$project\": {\"_id\": 0, \"genre\": \"$_id\", \"avg_rating\": 1}}\n",
    "    ]\n",
    "    return list(users_collection.aggregate(pipeline))\n",
    "\n",
    "# Example Usage\n",
    "print(\"Average ratings by genre:\", get_avg_rating_by_genre())\n"
   ]
  },
  {
   "cell_type": "markdown",
   "metadata": {},
   "source": [
    "2. Track Most Active Users\n"
   ]
  },
  {
   "cell_type": "code",
   "execution_count": 14,
   "metadata": {},
   "outputs": [
    {
     "name": "stdout",
     "output_type": "stream",
     "text": [
      "Most active users: [{'ratings_count': 2, 'user_id': 1}]\n"
     ]
    }
   ],
   "source": [
    "# Find most active users\n",
    "def get_most_active_users():\n",
    "    pipeline = [\n",
    "        {\"$unwind\": \"$ratings\"},\n",
    "        {\"$group\": {\"_id\": \"$user_id\", \"ratings_count\": {\"$sum\": 1}}},\n",
    "        {\"$sort\": {\"ratings_count\": -1}},\n",
    "        {\"$limit\": 5},\n",
    "        {\"$project\": {\"_id\": 0, \"user_id\": \"$_id\", \"ratings_count\": 1}}\n",
    "    ]\n",
    "    return list(users_collection.aggregate(pipeline))\n",
    "\n",
    "# Example Usage\n",
    "print(\"Most active users:\", get_most_active_users())\n"
   ]
  },
  {
   "cell_type": "markdown",
   "metadata": {},
   "source": [
    "3. Recommend Top-Rated Movies\n"
   ]
  },
  {
   "cell_type": "code",
   "execution_count": 15,
   "metadata": {},
   "outputs": [
    {
     "name": "stdout",
     "output_type": "stream",
     "text": [
      "Top-rated movies: [{'avg_rating': 5.0, 'movie_details': {'title': 'Inception'}, 'movie_id': 1}]\n"
     ]
    }
   ],
   "source": [
    "# Recommend top-rated movies\n",
    "def get_top_rated_movies(limit=5):\n",
    "    pipeline = [\n",
    "        {\"$unwind\": \"$ratings\"},\n",
    "        {\"$group\": {\"_id\": \"$ratings.movie_id\", \"avg_rating\": {\"$avg\": \"$ratings.rating\"}}},\n",
    "        {\"$lookup\": {\n",
    "            \"from\": \"movies\",\n",
    "            \"localField\": \"_id\",\n",
    "            \"foreignField\": \"movie_id\",\n",
    "            \"as\": \"movie_details\"\n",
    "        }},\n",
    "        {\"$unwind\": \"$movie_details\"},\n",
    "        {\"$sort\": {\"avg_rating\": -1}},\n",
    "        {\"$limit\": limit},\n",
    "        {\"$project\": {\"_id\": 0, \"movie_id\": \"$_id\", \"avg_rating\": 1, \"movie_details.title\": 1}}\n",
    "    ]\n",
    "    return list(users_collection.aggregate(pipeline))\n",
    "\n",
    "# Example Usage\n",
    "print(\"Top-rated movies:\", get_top_rated_movies())\n"
   ]
  },
  {
   "cell_type": "markdown",
   "metadata": {},
   "source": [
    "4 .Find movies by year range\n",
    "\n"
   ]
  },
  {
   "cell_type": "code",
   "execution_count": 16,
   "metadata": {},
   "outputs": [
    {
     "name": "stdout",
     "output_type": "stream",
     "text": [
      "Movies from 2000 to 2020: [{'movie_id': 1, 'title': 'Inception', 'genre': ['Sci-Fi', 'Thriller'], 'year': 2010}, {'movie_id': 3, 'title': 'Interstellar', 'genre': ['Sci-Fi', 'Drama'], 'year': 2014}]\n"
     ]
    }
   ],
   "source": [
    "def find_movies_by_year_range(start_year, end_year):\n",
    "    return list(movies_collection.find({\"year\": {\"$gte\": start_year, \"$lte\": end_year}}, {\"_id\": 0}))\n",
    "\n",
    "# Example Usage\n",
    "print(\"Movies from 2000 to 2020:\", find_movies_by_year_range(2000, 2020))"
   ]
  },
  {
   "cell_type": "markdown",
   "metadata": {},
   "source": [
    "## Integrate with Neo4j (Graph Database)"
   ]
  },
  {
   "cell_type": "code",
   "execution_count": 17,
   "metadata": {},
   "outputs": [
    {
     "name": "stdout",
     "output_type": "stream",
     "text": [
      "Requirement already satisfied: neo4j in /opt/anaconda3/lib/python3.11/site-packages (5.26.0)\n",
      "Requirement already satisfied: pytz in /opt/anaconda3/lib/python3.11/site-packages (from neo4j) (2023.3.post1)\n",
      "Note: you may need to restart the kernel to use updated packages.\n"
     ]
    }
   ],
   "source": [
    "pip install neo4j\n"
   ]
  },
  {
   "cell_type": "code",
   "execution_count": 18,
   "metadata": {},
   "outputs": [
    {
     "name": "stdout",
     "output_type": "stream",
     "text": [
      "Connected to Neo4j!\n"
     ]
    }
   ],
   "source": [
    "from neo4j import GraphDatabase\n",
    "\n",
    "# Connect to Neo4j\n",
    "def setup_neo4j():\n",
    "    uri = \"bolt://localhost:7687\" \n",
    "    driver = GraphDatabase.driver(uri, auth=(\"neo4j\", \"password\"))\n",
    "    print(\"Connected to Neo4j!\")\n",
    "    return driver\n",
    "\n",
    "driver = setup_neo4j()\n"
   ]
  },
  {
   "cell_type": "markdown",
   "metadata": {},
   "source": [
    "Create and Query Relationships\n",
    "\n",
    "Create relationships between users and movies:\n",
    "\n"
   ]
  },
  {
   "cell_type": "code",
   "execution_count": 19,
   "metadata": {},
   "outputs": [],
   "source": [
    "def create_like_relationship(user_id, movie_id):\n",
    "    with driver.session() as session:\n",
    "        query = \"\"\"\n",
    "        MERGE (u:User {user_id: $user_id})\n",
    "        MERGE (m:Movie {movie_id: $movie_id})\n",
    "        MERGE (u)-[:LIKED]->(m)\n",
    "        \"\"\"\n",
    "        session.run(query, user_id=user_id, movie_id=movie_id)\n",
    "        print(f\"User {user_id} liked Movie {movie_id}.\")\n"
   ]
  },
  {
   "cell_type": "markdown",
   "metadata": {},
   "source": [
    "Query for recommendations:\n",
    "\n"
   ]
  },
  {
   "cell_type": "code",
   "execution_count": 20,
   "metadata": {},
   "outputs": [
    {
     "name": "stdout",
     "output_type": "stream",
     "text": [
      "Recommendations for User 1: [3]\n"
     ]
    }
   ],
   "source": [
    "def recommend_movies(user_id):\n",
    "    with driver.session() as session:\n",
    "        query = \"\"\"\n",
    "        MATCH (u:User {user_id: $user_id})-[:LIKED]->(m:Movie)<-[:LIKED]-(other:User)-[:LIKED]->(rec:Movie)\n",
    "        WHERE NOT (u)-[:LIKED]->(rec)\n",
    "        RETURN DISTINCT rec.movie_id AS RecommendedMovie\n",
    "        \"\"\"\n",
    "        results = session.run(query, user_id=user_id)\n",
    "        return [record[\"RecommendedMovie\"] for record in results]\n",
    "\n",
    "print(\"Recommendations for User 1:\", recommend_movies(1))\n"
   ]
  },
  {
   "cell_type": "code",
   "execution_count": 21,
   "metadata": {},
   "outputs": [
    {
     "name": "stdout",
     "output_type": "stream",
     "text": [
      "Connected to Neo4j!\n",
      "Connected to Redis!\n"
     ]
    }
   ],
   "source": [
    "from neo4j import GraphDatabase\n",
    "import redis\n",
    "\n",
    "# Neo4j Setup\n",
    "def setup_neo4j():\n",
    "    uri = \"bolt://localhost:7687\"  # Update with your Neo4j URI\n",
    "    driver = GraphDatabase.driver(uri, auth=(\"neo4j\", \"password\"))\n",
    "    print(\"Connected to Neo4j!\")\n",
    "    return driver\n",
    "\n",
    "neo4j_driver = setup_neo4j()\n",
    "\n",
    "# Redis Setup\n",
    "redis_client = redis.Redis(host='localhost', port=6379, decode_responses=True)\n",
    "print(\"Connected to Redis!\")\n"
   ]
  },
  {
   "cell_type": "code",
   "execution_count": 22,
   "metadata": {},
   "outputs": [
    {
     "name": "stdout",
     "output_type": "stream",
     "text": [
      "Neo4j database populated successfully!\n"
     ]
    }
   ],
   "source": [
    "def populate_neo4j(driver):\n",
    "    with driver.session() as session:\n",
    "        # Clear existing data\n",
    "        session.run(\"MATCH (n) DETACH DELETE n\")\n",
    "        \n",
    "        # Create users\n",
    "        session.run(\"CREATE (:User {user_id: 1, name: 'Alice', age: 42})\")\n",
    "        session.run(\"CREATE (:User {user_id: 2, name: 'Bob', age: 41})\")\n",
    "        \n",
    "        # Create movies\n",
    "        session.run(\"CREATE (:Movie {movie_id: 1, title: 'Inception', genre: ['Sci-Fi', 'Thriller'], year: 2010})\")\n",
    "        session.run(\"CREATE (:Movie {movie_id: 2, title: 'The Matrix', genre: ['Sci-Fi', 'Action'], year: 1999})\")\n",
    "        session.run(\"CREATE (:Movie {movie_id: 3, title: 'Interstellar', genre: ['Sci-Fi', 'Drama'], year: 2014})\")\n",
    "        \n",
    "        # Create relationships\n",
    "        session.run(\"\"\"\n",
    "        MATCH (u:User {user_id: 1}), (m:Movie {movie_id: 1})\n",
    "        CREATE (u)-[:LIKED]->(m)\n",
    "        \"\"\")\n",
    "        session.run(\"\"\"\n",
    "        MATCH (u:User {user_id: 1}), (m:Movie {movie_id: 2})\n",
    "        CREATE (u)-[:LIKED]->(m)\n",
    "        \"\"\")\n",
    "        session.run(\"\"\"\n",
    "        MATCH (u:User {user_id: 2}), (m:Movie {movie_id: 2})\n",
    "        CREATE (u)-[:LIKED]->(m)\n",
    "        \"\"\")\n",
    "        session.run(\"\"\"\n",
    "        MATCH (u:User {user_id: 2}), (m:Movie {movie_id: 3})\n",
    "        CREATE (u)-[:LIKED]->(m)\n",
    "        \"\"\")\n",
    "        print(\"Neo4j database populated successfully!\")\n",
    "\n",
    "# Call the function to populate Neo4j\n",
    "populate_neo4j(neo4j_driver)\n"
   ]
  },
  {
   "cell_type": "code",
   "execution_count": 29,
   "metadata": {},
   "outputs": [
    {
     "name": "stdout",
     "output_type": "stream",
     "text": [
      "Recommended movies for User 1: [3]\n"
     ]
    }
   ],
   "source": [
    "def recommend_movies(user_id):\n",
    "    with neo4j_driver.session() as session:\n",
    "        query = \"\"\"\n",
    "        MATCH (u:User {user_id: $user_id})-[:LIKED]->(m:Movie)<-[:LIKED]-(other:User)-[:LIKED]->(rec:Movie)\n",
    "        WHERE NOT (u)-[:LIKED]->(rec)\n",
    "        RETURN DISTINCT rec.movie_id AS RecommendedMovie\n",
    "        \"\"\"\n",
    "        results = session.run(query, user_id=user_id)\n",
    "        return [record[\"RecommendedMovie\"] for record in results]\n",
    "\n",
    "# Example Usage\n",
    "recommended_movies = recommend_movies(1)  # User ID 1\n",
    "print(\"Recommended movies for User 1:\", recommended_movies)\n"
   ]
  },
  {
   "cell_type": "markdown",
   "metadata": {},
   "source": [
    "## Redis Integration"
   ]
  },
  {
   "cell_type": "code",
   "execution_count": 36,
   "metadata": {},
   "outputs": [
    {
     "name": "stdout",
     "output_type": "stream",
     "text": [
      "bar\n"
     ]
    }
   ],
   "source": [
    "import redis\n",
    "\n",
    "r = redis.Redis(\n",
    "    redis_host = os.getenv("REDIS_HOST"),\n",
    "    redis_port = os.getenv("REDIS_PORT"),\n",
    "    decode_responses=True,\n",
    "    username=\"default\",\n",
    "    redis_password = os.getenv("REDIS_PASSWORD"),\n",
    ")\n",
    "\n",
    "success = r.set('foo', 'bar')\n",
    "# True\n",
    "\n",
    "result = r.get('foo')\n",
    "print(result)\n",
    "# >>> bar\n"
   ]
  },
  {
   "cell_type": "markdown",
   "metadata": {},
   "source": [
    "Implement Redis Functions"
   ]
  },
  {
   "cell_type": "markdown",
   "metadata": {},
   "source": [
    "1. Cache Movie Recommendations\n",
    "    Store recommended movie IDs for a user:\n",
    "\n",
    "\n"
   ]
  },
  {
   "cell_type": "code",
   "execution_count": 37,
   "metadata": {},
   "outputs": [
    {
     "name": "stdout",
     "output_type": "stream",
     "text": [
      "Cached recommendations for User 1.\n"
     ]
    }
   ],
   "source": [
    "def cache_recommendations(user_id, recommendations):\n",
    "    key = f\"recommendations:{user_id}\"\n",
    "    r.set(key, \",\".join(map(str, recommendations)))  # Store as a comma-separated string\n",
    "    print(f\"Cached recommendations for User {user_id}.\")\n",
    "\n",
    "# Example Usage\n",
    "cache_recommendations(1, [2, 3])  # Cache recommendations for User 1\n"
   ]
  },
  {
   "cell_type": "markdown",
   "metadata": {},
   "source": [
    "Retrieve cached recommendations for a user:\n"
   ]
  },
  {
   "cell_type": "code",
   "execution_count": 38,
   "metadata": {},
   "outputs": [
    {
     "name": "stdout",
     "output_type": "stream",
     "text": [
      "Cached recommendations for User 1: [2, 3]\n"
     ]
    }
   ],
   "source": [
    "def get_cached_recommendations(user_id):\n",
    "    key = f\"recommendations:{user_id}\"\n",
    "    cached_data = r.get(key)\n",
    "    if cached_data:\n",
    "        return list(map(int, cached_data.split(\",\")))  # Convert back to a list of integers\n",
    "    return []\n",
    "\n",
    "# Example Usage\n",
    "cached_recs = get_cached_recommendations(1)\n",
    "print(\"Cached recommendations for User 1:\", cached_recs)\n"
   ]
  },
  {
   "cell_type": "markdown",
   "metadata": {},
   "source": [
    "2. Cache User Watchlists\n"
   ]
  },
  {
   "cell_type": "markdown",
   "metadata": {},
   "source": [
    "Store a user’s watchlist:\n",
    "\n"
   ]
  },
  {
   "cell_type": "code",
   "execution_count": 39,
   "metadata": {},
   "outputs": [
    {
     "name": "stdout",
     "output_type": "stream",
     "text": [
      "Cached watchlist for User 1.\n"
     ]
    }
   ],
   "source": [
    "def cache_watchlist(user_id, watchlist):\n",
    "    key = f\"watchlist:{user_id}\"\n",
    "    r.set(key, \",\".join(map(str, watchlist)))\n",
    "    print(f\"Cached watchlist for User {user_id}.\")\n",
    "\n",
    "# Example Usage\n",
    "cache_watchlist(1, [1, 2])  # Cache watchlist for User 1\n"
   ]
  },
  {
   "cell_type": "markdown",
   "metadata": {},
   "source": [
    "Retrieve a user’s watchlist:\n"
   ]
  },
  {
   "cell_type": "code",
   "execution_count": 41,
   "metadata": {},
   "outputs": [
    {
     "name": "stdout",
     "output_type": "stream",
     "text": [
      "Cached watchlist for User 1: [1, 2]\n"
     ]
    }
   ],
   "source": [
    "def get_cached_watchlist(user_id):\n",
    "    key = f\"watchlist:{user_id}\"\n",
    "    cached_data = r.get(key)\n",
    "    if cached_data:\n",
    "        return list(map(int, cached_data.split(\",\")))\n",
    "    return []\n",
    "\n",
    "# Example Usage\n",
    "watchlist = get_cached_watchlist(1)\n",
    "print(\"Cached watchlist for User 1:\", watchlist)\n"
   ]
  },
  {
   "cell_type": "markdown",
   "metadata": {},
   "source": [
    "3. Track Trending Movies\n"
   ]
  },
  {
   "cell_type": "markdown",
   "metadata": {},
   "source": [
    "Increment movie popularity each time a user interacts with a movie:\n",
    "\n"
   ]
  },
  {
   "cell_type": "code",
   "execution_count": 42,
   "metadata": {},
   "outputs": [
    {
     "name": "stdout",
     "output_type": "stream",
     "text": [
      "Incremented popularity for Movie 1.\n"
     ]
    }
   ],
   "source": [
    "def increment_movie_popularity(movie_id):\n",
    "    key = f\"movie:popularity:{movie_id}\"\n",
    "    r.incr(key)  # Increment the popularity count\n",
    "    print(f\"Incremented popularity for Movie {movie_id}.\")\n",
    "\n",
    "# Example Usage\n",
    "increment_movie_popularity(1)  # Increment popularity for Movie 1\n"
   ]
  },
  {
   "cell_type": "markdown",
   "metadata": {},
   "source": [
    "Retrieve the most popular movies:\n"
   ]
  },
  {
   "cell_type": "code",
   "execution_count": 43,
   "metadata": {},
   "outputs": [
    {
     "name": "stdout",
     "output_type": "stream",
     "text": [
      "Top trending movies: [('1', 1)]\n"
     ]
    }
   ],
   "source": [
    "def get_top_trending_movies(limit=5):\n",
    "    keys = r.keys(\"movie:popularity:*\")  # Get all keys matching the pattern\n",
    "    popularity = {key.split(\":\")[-1]: int(r.get(key)) for key in keys}\n",
    "    sorted_movies = sorted(popularity.items(), key=lambda x: x[1], reverse=True)\n",
    "    return sorted_movies[:limit]\n",
    "\n",
    "# Example Usage\n",
    "print(\"Top trending movies:\", get_top_trending_movies())\n"
   ]
  },
  {
   "cell_type": "markdown",
   "metadata": {},
   "source": [
    "Integrate Redis with MongoDB and Neo4j"
   ]
  },
  {
   "cell_type": "code",
   "execution_count": 44,
   "metadata": {},
   "outputs": [
    {
     "name": "stdout",
     "output_type": "stream",
     "text": [
      "Recommendations fetched from Redis cache.\n",
      "Final Recommendations for User 1: [2, 3]\n"
     ]
    }
   ],
   "source": [
    "def recommend_movies_workflow(user_id):\n",
    "    # Step 1: Check Redis cache\n",
    "    cached_recs = get_cached_recommendations(user_id)\n",
    "    if cached_recs:\n",
    "        print(\"Recommendations fetched from Redis cache.\")\n",
    "        return cached_recs\n",
    "\n",
    "    # Step 2: If not cached, fetch from Neo4j\n",
    "    recommendations = recommend_movies(user_id)  # Your Neo4j recommendation function\n",
    "    if recommendations:\n",
    "        cache_recommendations(user_id, recommendations)  # Cache the recommendations\n",
    "        return recommendations\n",
    "\n",
    "    print(\"No recommendations available.\")\n",
    "    return []\n",
    "\n",
    "# Example Usage\n",
    "final_recommendations = recommend_movies_workflow(1)\n",
    "print(\"Final Recommendations for User 1:\", final_recommendations)\n"
   ]
  },
  {
   "cell_type": "markdown",
   "metadata": {},
   "source": [
    "Test the Full Workflow"
   ]
  },
  {
   "cell_type": "code",
   "execution_count": 45,
   "metadata": {},
   "outputs": [
    {
     "name": "stdout",
     "output_type": "stream",
     "text": [
      "Recommendations fetched from Redis cache.\n",
      "Recommended movie details: [{'movie_id': 2, 'title': 'The Matrix', 'genre': ['Sci-Fi', 'Action'], 'year': 1999}, {'movie_id': 3, 'title': 'Interstellar', 'genre': ['Sci-Fi', 'Drama'], 'year': 2014}]\n"
     ]
    }
   ],
   "source": [
    "# Step 1: Fetch recommendations for User 1\n",
    "user_id = 1\n",
    "recommendations = recommend_movies_workflow(user_id)\n",
    "\n",
    "# Step 2: Fetch movie details from MongoDB\n",
    "from pymongo import MongoClient\n",
    "\n",
    "def get_movie_details(movie_ids):\n",
    "    return list(movies_collection.find({\"movie_id\": {\"$in\": movie_ids}}, {\"_id\": 0}))\n",
    "\n",
    "movie_details = get_movie_details(recommendations)\n",
    "print(\"Recommended movie details:\", movie_details)\n"
   ]
  },
  {
   "cell_type": "code",
   "execution_count": null,
   "metadata": {},
   "outputs": [],
   "source": []
  }
 ],
 "metadata": {
  "colab": {
   "provenance": []
  },
  "kernelspec": {
   "display_name": "Python 3",
   "language": "python",
   "name": "python3"
  },
  "language_info": {
   "codemirror_mode": {
    "name": "ipython",
    "version": 3
   },
   "file_extension": ".py",
   "mimetype": "text/x-python",
   "name": "python",
   "nbconvert_exporter": "python",
   "pygments_lexer": "ipython3",
   "version": "3.11.7"
  }
 },
 "nbformat": 4,
 "nbformat_minor": 0
}
